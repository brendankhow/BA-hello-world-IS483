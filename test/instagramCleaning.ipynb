{
 "cells": [
  {
   "cell_type": "markdown",
   "id": "7e8b1960",
   "metadata": {},
   "source": [
    "# Instagram Comments Cleaning\n",
    "\n",
    "This notebook cleans the comment column in the Instagram comments Excel file.\n"
   ]
  },
  {
   "cell_type": "code",
   "execution_count": 1,
   "id": "0c82890b",
   "metadata": {},
   "outputs": [],
   "source": [
    "import pandas as pd\n",
    "import html\n",
    "from bs4 import BeautifulSoup\n",
    "import re\n",
    "import os"
   ]
  },
  {
   "cell_type": "code",
   "execution_count": 2,
   "id": "1b3a2d39",
   "metadata": {},
   "outputs": [
    {
     "name": "stdout",
     "output_type": "stream",
     "text": [
      "Loaded Excel file with sheets: ['Post 1', 'Post 2', 'Post 3', 'Post 4', 'Post 5', 'Post 6', 'Post 7', 'Post 8']\n"
     ]
    }
   ],
   "source": [
    "# Load the Excel file with multiple sheets\n",
    "file_path = 'sgsmu.studentcare_instagram_comments.xlsx'  # Update this path if needed\n",
    "\n",
    "try:\n",
    "    # Read all sheets\n",
    "    sheets = pd.read_excel(file_path, sheet_name=None)\n",
    "    print(\"Loaded Excel file with sheets:\", list(sheets.keys()))\n",
    "except FileNotFoundError:\n",
    "    print(\"Excel file not found. Trying to load CSV instead.\")\n",
    "    csv_path = '../terrs-EDA_instagram_reddit_telegram/Notebook Analysis/data sources/Instagram - sgsmu.studentcare - Post to Comments.csv'\n",
    "    df = pd.read_csv(csv_path)\n",
    "    sheets = {'Sheet1': df}  # Treat as one sheet\n",
    "    print(\"Loaded CSV file as single sheet.\")\n",
    "\n",
    "# Dictionary to hold cleaned dataframes\n",
    "cleaned_sheets = {}"
   ]
  },
  {
   "cell_type": "code",
   "execution_count": 6,
   "id": "481c9403",
   "metadata": {},
   "outputs": [],
   "source": [
    "def clean_comment(text):\n",
    "    if pd.isna(text) or text == '':\n",
    "        return ''\n",
    "    \n",
    "    # Remove HTML tags\n",
    "    soup = BeautifulSoup(str(text), 'html.parser')\n",
    "    text = soup.get_text()\n",
    "    \n",
    "    # Unescape HTML entities\n",
    "    text = html.unescape(text)\n",
    "    \n",
    "    # Remove @mentions\n",
    "    text = re.sub(r'@\\w+', '', text)\n",
    "    \n",
    "    # Remove emojis and non-ASCII characters\n",
    "    text = re.sub(r'[^\\x00-\\x7F]+', '', text)\n",
    "    \n",
    "    # Remove extra whitespace\n",
    "    text = re.sub(r'\\s+', ' ', text).strip()\n",
    "    \n",
    "    return text"
   ]
  },
  {
   "cell_type": "code",
   "execution_count": 4,
   "id": "10a9cb31",
   "metadata": {},
   "outputs": [
    {
     "name": "stdout",
     "output_type": "stream",
     "text": [
      "Cleaned sheet: Post 1\n",
      "Cleaned sheet: Post 2\n",
      "Cleaned sheet: Post 3\n",
      "Cleaned sheet: Post 4\n",
      "Cleaned sheet: Post 5\n",
      "Cleaned sheet: Post 6\n",
      "Cleaned sheet: Post 7\n",
      "Cleaned sheet: Post 8\n"
     ]
    }
   ],
   "source": [
    "# Clean each sheet\n",
    "for sheet_name, df in sheets.items():\n",
    "    if df.shape[1] >= 4:  # Ensure at least 4 columns (D is 4th, 0-indexed as 3)\n",
    "        df.iloc[:, 3] = df.iloc[:, 3].apply(clean_comment)  # Column D (index 3)\n",
    "        cleaned_sheets[sheet_name] = df\n",
    "        print(f\"Cleaned sheet: {sheet_name}\")\n",
    "    else:\n",
    "        print(f\"Warning: Not enough columns in sheet {sheet_name}\")\n",
    "        cleaned_sheets[sheet_name] = df"
   ]
  },
  {
   "cell_type": "code",
   "execution_count": 7,
   "id": "fde008ae",
   "metadata": {},
   "outputs": [
    {
     "name": "stdout",
     "output_type": "stream",
     "text": [
      "Re-cleaned sheet: Post 1\n",
      "Re-cleaned sheet: Post 2\n",
      "Re-cleaned sheet: Post 3\n",
      "Re-cleaned sheet: Post 4\n",
      "Re-cleaned sheet: Post 5\n",
      "Re-cleaned sheet: Post 6\n",
      "Re-cleaned sheet: Post 7\n",
      "Re-cleaned sheet: Post 8\n"
     ]
    }
   ],
   "source": [
    "# Reset cleaned_sheets and re-clean with updated function\n",
    "cleaned_sheets = {}\n",
    "\n",
    "# Clean each sheet again\n",
    "for sheet_name, df in sheets.items():\n",
    "    if df.shape[1] >= 4:  # Ensure at least 4 columns (D is 4th, 0-indexed as 3)\n",
    "        df.iloc[:, 3] = df.iloc[:, 3].apply(clean_comment)  # Column D (index 3)\n",
    "        cleaned_sheets[sheet_name] = df\n",
    "        print(f\"Re-cleaned sheet: {sheet_name}\")\n",
    "    else:\n",
    "        print(f\"Warning: Not enough columns in sheet {sheet_name}\")\n",
    "        cleaned_sheets[sheet_name] = df"
   ]
  },
  {
   "cell_type": "code",
   "execution_count": 8,
   "id": "0ff69079",
   "metadata": {},
   "outputs": [
    {
     "name": "stdout",
     "output_type": "stream",
     "text": [
      "Cleaned file saved as: sgsmu.studentcare_instagram_comments_cleaned.xlsx\n"
     ]
    }
   ],
   "source": [
    "# Save the cleaned data to a new Excel file\n",
    "output_file = 'sgsmu.studentcare_instagram_comments_cleaned.xlsx'\n",
    "\n",
    "with pd.ExcelWriter(output_file, engine='openpyxl') as writer:\n",
    "    for sheet_name, df in cleaned_sheets.items():\n",
    "        df.to_excel(writer, sheet_name=sheet_name, index=False)\n",
    "\n",
    "print(f\"Cleaned file saved as: {output_file}\")"
   ]
  }
 ],
 "metadata": {
  "kernelspec": {
   "display_name": ".venv",
   "language": "python",
   "name": "python3"
  },
  "language_info": {
   "codemirror_mode": {
    "name": "ipython",
    "version": 3
   },
   "file_extension": ".py",
   "mimetype": "text/x-python",
   "name": "python",
   "nbconvert_exporter": "python",
   "pygments_lexer": "ipython3",
   "version": "3.12.6"
  }
 },
 "nbformat": 4,
 "nbformat_minor": 5
}
